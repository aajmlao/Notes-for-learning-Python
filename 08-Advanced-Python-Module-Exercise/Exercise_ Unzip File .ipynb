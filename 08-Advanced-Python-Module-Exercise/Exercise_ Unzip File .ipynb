{
 "cells": [
  {
   "cell_type": "code",
   "execution_count": 86,
   "id": "115c03b3",
   "metadata": {},
   "outputs": [],
   "source": [
    "import shutil\n",
    "import os\n",
    "import re\n",
    "import time "
   ]
  },
  {
   "cell_type": "code",
   "execution_count": 2,
   "id": "56202432",
   "metadata": {},
   "outputs": [
    {
     "data": {
      "text/plain": [
       "'C:\\\\Users\\\\Aaron\\\\OneDrive\\\\Documents\\\\Python\\\\JupyterNotebook\\\\Notes-for-learning-Python\\\\08-Advanced-Python-Module-Exercise'"
      ]
     },
     "execution_count": 2,
     "metadata": {},
     "output_type": "execute_result"
    }
   ],
   "source": [
    "pwd"
   ]
  },
  {
   "cell_type": "code",
   "execution_count": 12,
   "id": "9f2c8bd8",
   "metadata": {},
   "outputs": [],
   "source": [
    "dircectory_to_zip = 'C:\\\\Users\\\\Aaron\\\\OneDrive\\\\Documents\\\\Python\\\\JupyterNotebook\\\\Notes-for-learning-Python\\\\08-Advanced-Python-Module-Exercise'"
   ]
  },
  {
   "cell_type": "code",
   "execution_count": 14,
   "id": "dadfdeed",
   "metadata": {},
   "outputs": [],
   "source": [
    "output_filename = \"unzip_me_for_instructions.zip\""
   ]
  },
  {
   "cell_type": "code",
   "execution_count": 17,
   "id": "ee7da774",
   "metadata": {},
   "outputs": [],
   "source": [
    "shutil.unpack_archive(output_filename,dircectory_to_zip)"
   ]
  },
  {
   "cell_type": "code",
   "execution_count": 18,
   "id": "46eb57c0",
   "metadata": {},
   "outputs": [],
   "source": [
    "unzip_folder = 'C:\\\\Users\\\\Aaron\\\\OneDrive\\\\Documents\\\\Python\\\\JupyterNotebook\\\\Notes-for-learning-Python\\\\08-Advanced-Python-Module-Exercise\\\\extracted_content'"
   ]
  },
  {
   "cell_type": "code",
   "execution_count": 20,
   "id": "e837c07e",
   "metadata": {},
   "outputs": [
    {
     "data": {
      "text/plain": [
       "['Five', 'Four', 'Instructions.txt', 'One', 'Three', 'Two']"
      ]
     },
     "execution_count": 20,
     "metadata": {},
     "output_type": "execute_result"
    }
   ],
   "source": [
    "os.listdir(unzip_folder)"
   ]
  },
  {
   "cell_type": "code",
   "execution_count": 25,
   "id": "f3ab9330",
   "metadata": {},
   "outputs": [],
   "source": [
    "# for folder, sub_folders, files in os.walk('extracted_content'):\n",
    "    \n",
    "#     print(\"Currently looking at folder: \"+ folder)\n",
    "#     print('\\n')\n",
    "#     print(\"THE SUBFOLDERS ARE: \")\n",
    "#     for sub_fold in sub_folders:\n",
    "#         print(\"\\t Subfolder: \"+sub_fold )\n",
    "    \n",
    "#     print('\\n')\n",
    "    \n",
    "#     print(\"THE FILES ARE: \")\n",
    "#     for f in files:\n",
    "#         print(\"\\t File: \"+f)\n",
    "        \n",
    "#     print('\\n')"
   ]
  },
  {
   "cell_type": "code",
   "execution_count": 27,
   "id": "67df2abf",
   "metadata": {},
   "outputs": [],
   "source": [
    "file = open(unzip_folder+\"\\\\Instructions.txt\",'r')"
   ]
  },
  {
   "cell_type": "code",
   "execution_count": 29,
   "id": "7d7a6390",
   "metadata": {},
   "outputs": [
    {
     "name": "stdout",
     "output_type": "stream",
     "text": [
      "Good work on unzipping the file!\n",
      "You should now see 5 folders, each with a lot of random .txt files.\n",
      "Within one of these text files is a telephone number formated ###-###-#### \n",
      "Use the Python os module and regular expressions to iterate through each file, open it, and search for a telephone number.\n",
      "Good luck!\n"
     ]
    }
   ],
   "source": [
    "print(file.read())"
   ]
  },
  {
   "cell_type": "code",
   "execution_count": 114,
   "id": "9dced741",
   "metadata": {},
   "outputs": [
    {
     "name": "stdout",
     "output_type": "stream",
     "text": [
      "719-266-2837\n",
      "Folder extracted_content\\Four has the phone numbers\n",
      "0.02991175651550293\n"
     ]
    }
   ],
   "source": [
    "# Outcome:\n",
    "start_time = time.time()\n",
    "phone_pattern = re.compile(r'\\d{3}-\\d{3}-\\d{4}')\n",
    "for folder , sub_folders , files in os.walk('extracted_content'):\n",
    "#     print('\\n')\n",
    "#     print(\"THE SUBFOLDERS ARE: \")\n",
    "#     for sub_fold in sub_folders:\n",
    "#         print(\"\\t Subfolder: \"+sub_fold )\n",
    "#     print(\"THE FILES ARE: \")\n",
    "\n",
    "    for file in files:\n",
    "        \n",
    "        opend_file = open(os.path.join(folder,file),'r') # This is import for this problem when i was solving it\n",
    "        #print(opend_file.read())\n",
    "        \n",
    "        result = re.search(phone_pattern,opend_file.read())\n",
    "        try:\n",
    "            print(result.group())\n",
    "        except:\n",
    "            result = None\n",
    "            \n",
    "        if result  == None:\n",
    "            pass\n",
    "        else: \n",
    "            print(\"Folder \" + folder + ' has the phone numbers')\n",
    "\n",
    "end_time = time.time() - start_time\n",
    "\n",
    "print(end_time)"
   ]
  },
  {
   "cell_type": "code",
   "execution_count": 52,
   "id": "fb77d6f0",
   "metadata": {},
   "outputs": [
    {
     "name": "stdout",
     "output_type": "stream",
     "text": [
      "My telephone number is\n",
      " 408-555-1234\n"
     ]
    }
   ],
   "source": [
    "text = \"My telephone number is\\n 408-555-1234\"\n",
    "print(text)"
   ]
  },
  {
   "cell_type": "code",
   "execution_count": 50,
   "id": "88086a42",
   "metadata": {},
   "outputs": [],
   "source": [
    "phone = re.search(r'\\d\\d\\d-\\d\\d\\d-\\d\\d\\d\\d',text)"
   ]
  },
  {
   "cell_type": "code",
   "execution_count": 51,
   "id": "f9ec1650",
   "metadata": {},
   "outputs": [
    {
     "data": {
      "text/plain": [
       "<re.Match object; span=(24, 36), match='408-555-1234'>"
      ]
     },
     "execution_count": 51,
     "metadata": {},
     "output_type": "execute_result"
    }
   ],
   "source": [
    "phone"
   ]
  },
  {
   "cell_type": "code",
   "execution_count": null,
   "id": "d5bf61ed",
   "metadata": {},
   "outputs": [],
   "source": []
  }
 ],
 "metadata": {
  "kernelspec": {
   "display_name": "Python 3 (ipykernel)",
   "language": "python",
   "name": "python3"
  },
  "language_info": {
   "codemirror_mode": {
    "name": "ipython",
    "version": 3
   },
   "file_extension": ".py",
   "mimetype": "text/x-python",
   "name": "python",
   "nbconvert_exporter": "python",
   "pygments_lexer": "ipython3",
   "version": "3.10.5"
  }
 },
 "nbformat": 4,
 "nbformat_minor": 5
}
