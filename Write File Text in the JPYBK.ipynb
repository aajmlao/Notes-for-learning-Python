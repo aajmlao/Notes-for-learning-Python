{
 "cells": [
  {
   "cell_type": "code",
   "execution_count": 19,
   "id": "1f38fcf1",
   "metadata": {},
   "outputs": [
    {
     "name": "stdout",
     "output_type": "stream",
     "text": [
      "Overwriting myfile.txt\n"
     ]
    }
   ],
   "source": [
    "%%writefile myfile.txt\n",
    "Hello this is my file writefile. This should be fun to begin.\n",
    "Hello this is second line.\n",
    "This is third line."
   ]
  },
  {
   "cell_type": "code",
   "execution_count": 14,
   "id": "fccff659",
   "metadata": {},
   "outputs": [],
   "source": [
    "myfile = open('myfile.txt')"
   ]
  },
  {
   "cell_type": "code",
   "execution_count": 15,
   "id": "a1d81766",
   "metadata": {},
   "outputs": [
    {
     "data": {
      "text/plain": [
       "'Hello this is my file writefile. This should be fun to begin.\\nHello this is second line.\\nThis is third line.\\n'"
      ]
     },
     "execution_count": 15,
     "metadata": {},
     "output_type": "execute_result"
    }
   ],
   "source": [
    "myfile.read()"
   ]
  },
  {
   "cell_type": "code",
   "execution_count": 5,
   "id": "b3be9103",
   "metadata": {},
   "outputs": [],
   "source": [
    "#'\\n' represent a new line."
   ]
  },
  {
   "cell_type": "code",
   "execution_count": 16,
   "id": "d26f4108",
   "metadata": {},
   "outputs": [
    {
     "data": {
      "text/plain": [
       "0"
      ]
     },
     "execution_count": 16,
     "metadata": {},
     "output_type": "execute_result"
    }
   ],
   "source": [
    "myfile.seek(0) #reset the file"
   ]
  },
  {
   "cell_type": "code",
   "execution_count": 17,
   "id": "5fa14cd0",
   "metadata": {},
   "outputs": [
    {
     "data": {
      "text/plain": [
       "['Hello this is my file writefile. This should be fun to begin.\\n',\n",
       " 'Hello this is second line.\\n',\n",
       " 'This is third line.\\n']"
      ]
     },
     "execution_count": 17,
     "metadata": {},
     "output_type": "execute_result"
    }
   ],
   "source": [
    "myfile.readlines() # create a list on this file."
   ]
  },
  {
   "cell_type": "code",
   "execution_count": 20,
   "id": "306529b8",
   "metadata": {},
   "outputs": [
    {
     "data": {
      "text/plain": [
       "'C:\\\\Users\\\\Aaron\\\\OneDrive\\\\Documents\\\\Python\\\\JupyterNotebook\\\\Notes-for-learning-Python'"
      ]
     },
     "execution_count": 20,
     "metadata": {},
     "output_type": "execute_result"
    }
   ],
   "source": [
    "pwd"
   ]
  },
  {
   "cell_type": "code",
   "execution_count": 21,
   "id": "71bd82cb",
   "metadata": {},
   "outputs": [],
   "source": [
    "myfile.close() # to close the file that my opened"
   ]
  },
  {
   "cell_type": "code",
   "execution_count": 22,
   "id": "420f8872",
   "metadata": {},
   "outputs": [],
   "source": [
    "with open('myfile.txt') as new_file:\n",
    "    myfile = new_file.read() "
   ]
  },
  {
   "cell_type": "code",
   "execution_count": 26,
   "id": "0b1c9152",
   "metadata": {},
   "outputs": [],
   "source": [
    "# This way to avoid any closing error and don't need to close it manully\n",
    "# short cut: shift + tab \n",
    "# to view the detail on function\n",
    "# 1. open(\"Ramdom.txt\", mode = 'w') as new_file: \n",
    "# Line 1 could create a file with 'mode = \"w\" ', but we will have an error if using mode = 'r' or others.  \n",
    "# Example below: "
   ]
  },
  {
   "cell_type": "code",
   "execution_count": 27,
   "id": "92f8106b",
   "metadata": {},
   "outputs": [],
   "source": [
    "with open('Newfile.txt', mode='w') as new_file:\n",
    "    new_file.write('This file just created with this mode = w!!')"
   ]
  },
  {
   "cell_type": "code",
   "execution_count": 29,
   "id": "4f745479",
   "metadata": {},
   "outputs": [
    {
     "name": "stdout",
     "output_type": "stream",
     "text": [
      "This file just created with this mode = w!!\n"
     ]
    }
   ],
   "source": [
    "with open('Newfile.txt',mode = 'r') as file:\n",
    "    print(file.read())"
   ]
  },
  {
   "cell_type": "code",
   "execution_count": null,
   "id": "52f57823",
   "metadata": {},
   "outputs": [],
   "source": []
  }
 ],
 "metadata": {
  "kernelspec": {
   "display_name": "Python 3 (ipykernel)",
   "language": "python",
   "name": "python3"
  },
  "language_info": {
   "codemirror_mode": {
    "name": "ipython",
    "version": 3
   },
   "file_extension": ".py",
   "mimetype": "text/x-python",
   "name": "python",
   "nbconvert_exporter": "python",
   "pygments_lexer": "ipython3",
   "version": "3.10.5"
  }
 },
 "nbformat": 4,
 "nbformat_minor": 5
}
