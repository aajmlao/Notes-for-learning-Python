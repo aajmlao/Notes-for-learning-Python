{
 "cells": [
  {
   "cell_type": "code",
   "execution_count": 6,
   "id": "2e9370c7",
   "metadata": {},
   "outputs": [],
   "source": [
    "mystring = 'Hello'"
   ]
  },
  {
   "cell_type": "code",
   "execution_count": 4,
   "id": "1cdf944a",
   "metadata": {},
   "outputs": [],
   "source": [
    "# for loop to iterate the list\n",
    "mylist = []\n",
    "\n",
    "for letter in mystring:\n",
    "    mylist.append(letter)"
   ]
  },
  {
   "cell_type": "code",
   "execution_count": 5,
   "id": "f1bc0e23",
   "metadata": {},
   "outputs": [
    {
     "data": {
      "text/plain": [
       "['H', 'e', 'l', 'l', 'o']"
      ]
     },
     "execution_count": 5,
     "metadata": {},
     "output_type": "execute_result"
    }
   ],
   "source": [
    "mylist"
   ]
  },
  {
   "cell_type": "code",
   "execution_count": 8,
   "id": "e627b101",
   "metadata": {},
   "outputs": [
    {
     "data": {
      "text/plain": [
       "['H', 'e', 'l', 'l', 'o']"
      ]
     },
     "execution_count": 8,
     "metadata": {},
     "output_type": "execute_result"
    }
   ],
   "source": [
    "list(mystring) #this way save more time to code or use the following:"
   ]
  },
  {
   "cell_type": "code",
   "execution_count": 9,
   "id": "07cea297",
   "metadata": {},
   "outputs": [],
   "source": [
    "mylist = [letter for letter in mystring] # letter represent letter after for. Letter could be any string."
   ]
  },
  {
   "cell_type": "code",
   "execution_count": 10,
   "id": "11576d35",
   "metadata": {},
   "outputs": [
    {
     "data": {
      "text/plain": [
       "['H', 'e', 'l', 'l', 'o']"
      ]
     },
     "execution_count": 10,
     "metadata": {},
     "output_type": "execute_result"
    }
   ],
   "source": [
    "mylist"
   ]
  },
  {
   "cell_type": "code",
   "execution_count": 15,
   "id": "486afb35",
   "metadata": {},
   "outputs": [],
   "source": [
    "# for numbers \n",
    "numlist = [num**2 for num in range(10)] # 10 is the index."
   ]
  },
  {
   "cell_type": "code",
   "execution_count": 17,
   "id": "bea7374b",
   "metadata": {},
   "outputs": [
    {
     "data": {
      "text/plain": [
       "[0, 1, 4, 9, 16, 25, 36, 49, 64, 81]"
      ]
     },
     "execution_count": 17,
     "metadata": {},
     "output_type": "execute_result"
    }
   ],
   "source": [
    "numlist"
   ]
  },
  {
   "cell_type": "code",
   "execution_count": 19,
   "id": "f7ea4024",
   "metadata": {},
   "outputs": [],
   "source": [
    "numlist = [num**2 for num in range(10) if num%2 == 0 ] # check even number"
   ]
  },
  {
   "cell_type": "code",
   "execution_count": 20,
   "id": "3c3d2972",
   "metadata": {},
   "outputs": [
    {
     "data": {
      "text/plain": [
       "[0, 4, 16, 36, 64]"
      ]
     },
     "execution_count": 20,
     "metadata": {},
     "output_type": "execute_result"
    }
   ],
   "source": [
    "numlist"
   ]
  },
  {
   "cell_type": "code",
   "execution_count": 21,
   "id": "deac914c",
   "metadata": {},
   "outputs": [],
   "source": [
    "c = [0,20,30,35.5]\n",
    "f = [(9/5)*temp +32 for temp in c]"
   ]
  },
  {
   "cell_type": "code",
   "execution_count": 22,
   "id": "f0880c54",
   "metadata": {},
   "outputs": [
    {
     "data": {
      "text/plain": [
       "[32.0, 68.0, 86.0, 95.9]"
      ]
     },
     "execution_count": 22,
     "metadata": {},
     "output_type": "execute_result"
    }
   ],
   "source": [
    "f"
   ]
  },
  {
   "cell_type": "code",
   "execution_count": 24,
   "id": "7e3214ac",
   "metadata": {},
   "outputs": [],
   "source": [
    "mylist = [x*y for x in [2,4,6] for y in [1,10,1000]]"
   ]
  },
  {
   "cell_type": "code",
   "execution_count": 25,
   "id": "aaeca3c3",
   "metadata": {},
   "outputs": [
    {
     "data": {
      "text/plain": [
       "[2, 20, 2000, 4, 40, 4000, 6, 60, 6000]"
      ]
     },
     "execution_count": 25,
     "metadata": {},
     "output_type": "execute_result"
    }
   ],
   "source": [
    "mylist"
   ]
  },
  {
   "cell_type": "code",
   "execution_count": null,
   "id": "ee9ca060",
   "metadata": {},
   "outputs": [],
   "source": []
  }
 ],
 "metadata": {
  "kernelspec": {
   "display_name": "Python 3 (ipykernel)",
   "language": "python",
   "name": "python3"
  },
  "language_info": {
   "codemirror_mode": {
    "name": "ipython",
    "version": 3
   },
   "file_extension": ".py",
   "mimetype": "text/x-python",
   "name": "python",
   "nbconvert_exporter": "python",
   "pygments_lexer": "ipython3",
   "version": "3.10.5"
  },
  "vscode": {
   "interpreter": {
    "hash": "ccfd5eb523b484a979b6e02c6ef18cb5a7b8f195775124f8ffab4df81f42c205"
   }
  }
 },
 "nbformat": 4,
 "nbformat_minor": 5
}
