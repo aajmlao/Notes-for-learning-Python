{
 "cells": [
  {
   "cell_type": "code",
   "execution_count": 2,
   "id": "fd973d46",
   "metadata": {},
   "outputs": [],
   "source": [
    "# Set is writen with {}\n",
    "# list is with []\n",
    "# dictionary is with {}\n",
    "# tuple is with ()"
   ]
  },
  {
   "cell_type": "code",
   "execution_count": 3,
   "id": "8224fe47",
   "metadata": {},
   "outputs": [],
   "source": [
    "# .add() method use in set\n",
    "# .append method use in list\n",
    "# dictionary appends with keyword. e.g food['apple'] = sweet "
   ]
  },
  {
   "cell_type": "code",
   "execution_count": null,
   "id": "972fcefd",
   "metadata": {},
   "outputs": [],
   "source": []
  }
 ],
 "metadata": {
  "kernelspec": {
   "display_name": "Python 3 (ipykernel)",
   "language": "python",
   "name": "python3"
  },
  "language_info": {
   "codemirror_mode": {
    "name": "ipython",
    "version": 3
   },
   "file_extension": ".py",
   "mimetype": "text/x-python",
   "name": "python",
   "nbconvert_exporter": "python",
   "pygments_lexer": "ipython3",
   "version": "3.10.5"
  }
 },
 "nbformat": 4,
 "nbformat_minor": 5
}
