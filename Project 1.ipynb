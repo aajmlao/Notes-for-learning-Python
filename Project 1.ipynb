{
 "cells": [
  {
   "cell_type": "markdown",
   "id": "98dc5f79",
   "metadata": {},
   "source": [
    "# Tic Tac Toe Game"
   ]
  },
  {
   "cell_type": "code",
   "execution_count": 6,
   "id": "5631eea8",
   "metadata": {},
   "outputs": [],
   "source": [
    "def basic_info():\n",
    "    print(\"Welcome to Tic Tac Toe Board Game.\")\n",
    "    choice = \"Wrong\"\n",
    "    choice1 = 'Wrong'\n",
    "    while choice != 'Y':\n",
    "        user1 = input(\"Please Your Name as User 1: \")\n",
    "        choice = input(f\"Your Name is {user1}, Correct? Y or N: \")\n",
    "    while choice1 != 'Y':\n",
    "        user2 = input(\"Please Your Name as User 2: \")\n",
    "        choice1 = input(f\"Your Name is {user1}, Correct? Y or N: \")\n",
    "    return [user1,user2]"
   ]
  },
  {
   "cell_type": "code",
   "execution_count": 2,
   "id": "5b8c07fa",
   "metadata": {},
   "outputs": [],
   "source": [
    "def board_pattern():\n",
    "    board_1 = [\" \",'|',\" \",'|',\" \"]\n",
    "    board_2 = [\"-\",\"-\",\"-\",\"-\",\"-\"]\n",
    "    board_3 = [\" \",'|',\" \",'|',\" \"]\n",
    "    board_4 = [\"-\",\"-\",\"-\",\"-\",\"-\"]\n",
    "    board_5 = [\" \",'|',\" \",'|',\" \"]\n",
    "    borad = [board_1, board_2,board_3,board_4,board_5]\n",
    "    return borad"
   ]
  },
  {
   "cell_type": "code",
   "execution_count": 10,
   "id": "5d08fe43",
   "metadata": {},
   "outputs": [
    {
     "name": "stdout",
     "output_type": "stream",
     "text": [
      " | | \n",
      "-----\n",
      " | | \n",
      "-----\n",
      " | | \n"
     ]
    }
   ],
   "source": [
    "for board in board_pattern():\n",
    "    print(\"\".join(board))"
   ]
  },
  {
   "cell_type": "code",
   "execution_count": 14,
   "id": "3ba1a00d",
   "metadata": {},
   "outputs": [],
   "source": [
    "def show_position():\n",
    "    print('These are the position on the board: ')\n",
    "    count_top = 0\n",
    "    count_low = 0\n",
    "    posi_board = []\n",
    "    for board in board_pattern(): # Each row\n",
    "        count = 0 #reset count\n",
    "        if \" \" in board: # Only the row contain \" \"\n",
    "            for ES in board: # Each Item\n",
    "                if ES == \" \": # only \" \" item will execute\n",
    "                    count_low +=1 \n",
    "                    board[0+count*2] = str(count_low + count_top)\n",
    "                    count += 1\n",
    "            count_top += 3 \n",
    "            count_low = 0 \n",
    "            posi_board.append(board)\n",
    "        else:\n",
    "            posi_board.append(board)\n",
    "    return posi_board"
   ]
  },
  {
   "cell_type": "code",
   "execution_count": 19,
   "id": "7a8b8925",
   "metadata": {},
   "outputs": [
    {
     "name": "stdout",
     "output_type": "stream",
     "text": [
      "These are the position on the board: \n",
      "[['1', '|', '2', '|', '3'], ['-', '-', '-', '-', '-'], ['4', '|', '5', '|', '6'], ['-', '-', '-', '-', '-'], ['7', '|', '8', '|', '9']]\n"
     ]
    }
   ],
   "source": [
    "print(show_position())"
   ]
  },
  {
   "cell_type": "code",
   "execution_count": null,
   "id": "330ea77a",
   "metadata": {},
   "outputs": [],
   "source": [
    "def playing():\n",
    "    for board in board_pattern():\n",
    "        print(board)\n",
    "    \n",
    "    while True:\n",
    "        if "
   ]
  },
  {
   "cell_type": "code",
   "execution_count": 8,
   "id": "24d73680",
   "metadata": {},
   "outputs": [],
   "source": [
    "def interact():\n",
    "    user1, user2 = basic_info() #grab the basic info of users, return uesr1 and user2\n",
    "    show_position() # This function no need to change with input here or return anything. \n",
    "    Continues_game = input('Do you want to continue the game? Y or N')\n",
    "    if continues_game == 'Y' or 'y':\n",
    "        \n",
    "            \n",
    "    elif continues_game == 'N' or 'n':\n",
    "        print('Closing Game.')\n",
    "        break"
   ]
  },
  {
   "cell_type": "code",
   "execution_count": null,
   "id": "27f073d8",
   "metadata": {},
   "outputs": [],
   "source": []
  }
 ],
 "metadata": {
  "kernelspec": {
   "display_name": "Python 3 (ipykernel)",
   "language": "python",
   "name": "python3"
  },
  "language_info": {
   "codemirror_mode": {
    "name": "ipython",
    "version": 3
   },
   "file_extension": ".py",
   "mimetype": "text/x-python",
   "name": "python",
   "nbconvert_exporter": "python",
   "pygments_lexer": "ipython3",
   "version": "3.10.5"
  }
 },
 "nbformat": 4,
 "nbformat_minor": 5
}
