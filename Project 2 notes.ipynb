{
 "cells": [
  {
   "cell_type": "code",
   "execution_count": 37,
   "id": "70cbde8d",
   "metadata": {},
   "outputs": [],
   "source": [
    "# Card\n",
    "# Suit, rank, value\n",
    "# Jack = 11, queen = 12, and king = 13 as an example\n",
    "\n",
    "# These values are global values \n",
    "suits = ('Hearts', 'Diamonds', 'Spades', 'Clubs')# initialization for the value of the cards\n",
    "ranks = ('Two', 'Three', 'Four', 'Five', 'Six', 'Seven', 'Eight', 'Nine', 'Ten', 'Jack', 'Queen', 'King', 'Ace')# initialization for the value of the cards\n",
    "values = {'Two':2, 'Three':3, 'Four':4, 'Five':5, 'Six':6, 'Seven':7, 'Eight':8, \n",
    "            'Nine':9, 'Ten':10, 'Jack':11, 'Queen':12, 'King':13, 'Ace':14} # initialization for the value of the cards"
   ]
  },
  {
   "cell_type": "code",
   "execution_count": 32,
   "id": "902e9d35",
   "metadata": {},
   "outputs": [],
   "source": [
    "class card:\n",
    "    \n",
    "    def __init__(self, suit, rank):\n",
    "        self.suit = suit\n",
    "        self.rank = rank\n",
    "        self.value = values[rank] # Global values can use inside. \n",
    "        \n",
    "    def __str__(self):\n",
    "        return self.rank + \" of \" + self.suit"
   ]
  },
  {
   "cell_type": "code",
   "execution_count": 38,
   "id": "2a5b67a9",
   "metadata": {},
   "outputs": [],
   "source": [
    "two_hearts = card('Hearts','Two')"
   ]
  },
  {
   "cell_type": "code",
   "execution_count": 39,
   "id": "01e44753",
   "metadata": {},
   "outputs": [
    {
     "data": {
      "text/plain": [
       "2"
      ]
     },
     "execution_count": 39,
     "metadata": {},
     "output_type": "execute_result"
    }
   ],
   "source": [
    "two_hearts.value"
   ]
  },
  {
   "cell_type": "code",
   "execution_count": 6,
   "id": "5763583e",
   "metadata": {},
   "outputs": [],
   "source": []
  },
  {
   "cell_type": "code",
   "execution_count": 7,
   "id": "4b51cf54",
   "metadata": {},
   "outputs": [
    {
     "data": {
      "text/plain": [
       "2"
      ]
     },
     "execution_count": 7,
     "metadata": {},
     "output_type": "execute_result"
    }
   ],
   "source": [
    "values[two_hearts.rank]"
   ]
  },
  {
   "cell_type": "code",
   "execution_count": 25,
   "id": "b82c0e8b",
   "metadata": {},
   "outputs": [],
   "source": [
    "# Deck Class\n",
    "# Create all 52 cards objects\n",
    "# Shuffle() function\n",
    "# pop method from cards list\n",
    " "
   ]
  },
  {
   "cell_type": "code",
   "execution_count": 86,
   "id": "51194da4",
   "metadata": {},
   "outputs": [],
   "source": [
    "\n",
    "class Deck:\n",
    "    \n",
    "    def __init__(self):\n",
    "        \n",
    "        self.all_cards = []\n",
    "        \n",
    "        for suit in suits: # Global value use inside\n",
    "            for rank in ranks: # Global value value use inside\n",
    "                # Create the Card Object\n",
    "                created_card = card(suit,rank)\n",
    "                \n",
    "                self.all_cards.append(created_card)\n",
    "    \n",
    "    def shuffle(self):\n",
    "        \n",
    "        random.shuffle(self.all_cards)\n",
    "        \n",
    "    def deal_one(self):\n",
    "        return self.all_cards.pop()"
   ]
  },
  {
   "cell_type": "code",
   "execution_count": 87,
   "id": "f0659084",
   "metadata": {},
   "outputs": [],
   "source": [
    "new_list = Deck()"
   ]
  },
  {
   "cell_type": "code",
   "execution_count": 88,
   "id": "a15fc5b0",
   "metadata": {},
   "outputs": [],
   "source": [
    "new_list.shuffle()"
   ]
  },
  {
   "cell_type": "code",
   "execution_count": 89,
   "id": "1fbcf7f8",
   "metadata": {},
   "outputs": [],
   "source": [
    "mycard = new_list.deal_one()"
   ]
  },
  {
   "cell_type": "code",
   "execution_count": 90,
   "id": "e66e8f1b",
   "metadata": {},
   "outputs": [
    {
     "name": "stdout",
     "output_type": "stream",
     "text": [
      "Ten of Clubs\n"
     ]
    }
   ],
   "source": [
    "print(mycard)"
   ]
  },
  {
   "cell_type": "code",
   "execution_count": 93,
   "id": "3faca232",
   "metadata": {},
   "outputs": [
    {
     "data": {
      "text/plain": [
       "51"
      ]
     },
     "execution_count": 93,
     "metadata": {},
     "output_type": "execute_result"
    }
   ],
   "source": [
    "len(new_list.all_cards)"
   ]
  },
  {
   "cell_type": "code",
   "execution_count": 94,
   "id": "7e06f976",
   "metadata": {},
   "outputs": [],
   "source": [
    "# Player class\n",
    "# add a single card or multiple card\n",
    "# extend() add list to list \n",
    "# append() is not good for multiple items"
   ]
  },
  {
   "cell_type": "code",
   "execution_count": 96,
   "id": "1d3c0bff",
   "metadata": {},
   "outputs": [],
   "source": [
    "class player:\n",
    "    \n",
    "    def __init__(self,name):\n",
    "        \n",
    "        self.name = name\n",
    "        self.all_cards = []\n",
    "        \n",
    "    def remove_one(self):\n",
    "        return self.all_cards.pop(0)\n",
    "    \n",
    "    def add_cards(self, new_cards):\n",
    "        if type(new_cards) == type([]):\n",
    "            # List of multiple Card objects\n",
    "            self.all_cards.extend(new_cards)\n",
    "        else:\n",
    "            # For a single card object\n",
    "            self.all_cards.append(new_cards)\n",
    "    \n",
    "    def __str__(self):\n",
    "        return f\"Player {self.name} has {len(self.all_cards)} cards.\"\n"
   ]
  },
  {
   "cell_type": "code",
   "execution_count": 97,
   "id": "cfcf3283",
   "metadata": {},
   "outputs": [],
   "source": [
    "new_player = player('Jose')"
   ]
  },
  {
   "cell_type": "code",
   "execution_count": 98,
   "id": "ee016b28",
   "metadata": {},
   "outputs": [
    {
     "name": "stdout",
     "output_type": "stream",
     "text": [
      "Player Jose has 0 cards.\n"
     ]
    }
   ],
   "source": [
    "print(new_player)"
   ]
  },
  {
   "cell_type": "code",
   "execution_count": null,
   "id": "61c975fe",
   "metadata": {},
   "outputs": [],
   "source": [
    "# game logic\n",
    "# "
   ]
  }
 ],
 "metadata": {
  "kernelspec": {
   "display_name": "Python 3 (ipykernel)",
   "language": "python",
   "name": "python3"
  },
  "language_info": {
   "codemirror_mode": {
    "name": "ipython",
    "version": 3
   },
   "file_extension": ".py",
   "mimetype": "text/x-python",
   "name": "python",
   "nbconvert_exporter": "python",
   "pygments_lexer": "ipython3",
   "version": "3.10.5"
  }
 },
 "nbformat": 4,
 "nbformat_minor": 5
}
