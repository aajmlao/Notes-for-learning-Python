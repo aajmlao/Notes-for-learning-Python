{
 "cells": [
  {
   "cell_type": "markdown",
   "id": "cf893514",
   "metadata": {},
   "source": [
    "# \"args\" and  \"kwargs\""
   ]
  },
  {
   "cell_type": "code",
   "execution_count": 3,
   "id": "df1924ad",
   "metadata": {},
   "outputs": [],
   "source": [
    "def myfunc(*args, **kwargs):\n",
    "    #*args takes tuple or list\n",
    "    #**kwargs takes dictionary only\n",
    "    print('I would like {} {}'.format(args[0],kwargs['animal'])) #key is the variable. "
   ]
  },
  {
   "cell_type": "code",
   "execution_count": 4,
   "id": "0d679d65",
   "metadata": {},
   "outputs": [
    {
     "name": "stdout",
     "output_type": "stream",
     "text": [
      "I would like 10 dog\n"
     ]
    }
   ],
   "source": [
    "myfunc(10,20,30,fruit = 'orange',food ='eggs',animal = 'dogs')"
   ]
  },
  {
   "cell_type": "code",
   "execution_count": null,
   "id": "606b2f05",
   "metadata": {},
   "outputs": [],
   "source": []
  }
 ],
 "metadata": {
  "kernelspec": {
   "display_name": "Python 3 (ipykernel)",
   "language": "python",
   "name": "python3"
  },
  "language_info": {
   "codemirror_mode": {
    "name": "ipython",
    "version": 3
   },
   "file_extension": ".py",
   "mimetype": "text/x-python",
   "name": "python",
   "nbconvert_exporter": "python",
   "pygments_lexer": "ipython3",
   "version": "3.10.5"
  }
 },
 "nbformat": 4,
 "nbformat_minor": 5
}
