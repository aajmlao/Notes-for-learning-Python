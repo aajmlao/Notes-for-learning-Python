{
 "cells": [
  {
   "cell_type": "markdown",
   "id": "3a066f67",
   "metadata": {},
   "source": [
    "Practice Source: https://github.com/aajmlao/Complete-Python-3-Bootcamp/blob/master/03-Methods%20and%20Functions/03-Function%20Practice%20Exercises.ipynb"
   ]
  },
  {
   "cell_type": "code",
   "execution_count": 36,
   "id": "9e1de607",
   "metadata": {},
   "outputs": [],
   "source": [
    "def lesser_of_two_evens(num1,num2):\n",
    "    if num1%2 == 0 and num2%2 == 0: \n",
    "       out = num2 if num1 > num2 else num1\n",
    "    else:\n",
    "       out = num1 if num1 > num2 else num2\n",
    "    return out"
   ]
  },
  {
   "cell_type": "code",
   "execution_count": 37,
   "id": "97e12401",
   "metadata": {
    "scrolled": false
   },
   "outputs": [
    {
     "data": {
      "text/plain": [
       "6"
      ]
     },
     "execution_count": 37,
     "metadata": {},
     "output_type": "execute_result"
    }
   ],
   "source": [
    "lesser_of_two_evens(6,5)"
   ]
  },
  {
   "cell_type": "code",
   "execution_count": 42,
   "id": "385fa6f4",
   "metadata": {},
   "outputs": [],
   "source": [
    "def animal_crackers(text):\n",
    "    word = text.split().upper()\n",
    "    return True if word[0][0] == word[1][0] else False"
   ]
  },
  {
   "cell_type": "code",
   "execution_count": 39,
   "id": "d3af60f0",
   "metadata": {},
   "outputs": [
    {
     "data": {
      "text/plain": [
       "True"
      ]
     },
     "execution_count": 39,
     "metadata": {},
     "output_type": "execute_result"
    }
   ],
   "source": [
    "animal_crackers('Levelheaded Llama')\n"
   ]
  },
  {
   "cell_type": "code",
   "execution_count": 40,
   "id": "ea923d64",
   "metadata": {},
   "outputs": [
    {
     "data": {
      "text/plain": [
       "False"
      ]
     },
     "execution_count": 40,
     "metadata": {},
     "output_type": "execute_result"
    }
   ],
   "source": [
    "animal_crackers('Crazy Kangaroo')"
   ]
  },
  {
   "cell_type": "code",
   "execution_count": 43,
   "id": "0503c391",
   "metadata": {},
   "outputs": [],
   "source": [
    "def makes_twenty(*args):\n",
    "    return True if sum(args) >= 20 else False    "
   ]
  },
  {
   "cell_type": "code",
   "execution_count": 37,
   "id": "7873b964",
   "metadata": {},
   "outputs": [
    {
     "data": {
      "text/plain": [
       "True"
      ]
     },
     "execution_count": 37,
     "metadata": {},
     "output_type": "execute_result"
    }
   ],
   "source": [
    "makes_twenty(20,10)"
   ]
  },
  {
   "cell_type": "code",
   "execution_count": 38,
   "id": "a53b59c9",
   "metadata": {},
   "outputs": [
    {
     "data": {
      "text/plain": [
       "False"
      ]
     },
     "execution_count": 38,
     "metadata": {},
     "output_type": "execute_result"
    }
   ],
   "source": [
    "makes_twenty(2,3)"
   ]
  },
  {
   "cell_type": "markdown",
   "id": "dbdd37e9",
   "metadata": {},
   "source": [
    "## Level 1 Problems"
   ]
  },
  {
   "cell_type": "code",
   "execution_count": 61,
   "id": "aa36367f",
   "metadata": {},
   "outputs": [],
   "source": [
    "def old_macdonald(x ='macdonald'): # can also use captitalize() method to do it\n",
    "    x = list(x)\n",
    "    x[0] = x[0].upper()\n",
    "    x[3] = x[3].upper()\n",
    "    \n",
    "    return ''.join(x) "
   ]
  },
  {
   "cell_type": "code",
   "execution_count": 62,
   "id": "9f8c817b",
   "metadata": {},
   "outputs": [
    {
     "data": {
      "text/plain": [
       "'MacDonald'"
      ]
     },
     "execution_count": 62,
     "metadata": {},
     "output_type": "execute_result"
    }
   ],
   "source": [
    "old_macdonald()"
   ]
  },
  {
   "cell_type": "code",
   "execution_count": 44,
   "id": "378466eb",
   "metadata": {},
   "outputs": [],
   "source": [
    "def master_yoda(text):\n",
    "    newlist = []\n",
    "    text = text.split()\n",
    "    for i in range(len(text)):\n",
    "        newlist.append(text.pop())\n",
    "    return ' '.join(newlist)\n",
    "        "
   ]
  },
  {
   "cell_type": "code",
   "execution_count": 47,
   "id": "2d6703e4",
   "metadata": {},
   "outputs": [],
   "source": [
    "# solution method\n",
    "def master_yoda(text):\n",
    "    wordlist = text.split()\n",
    "    reverse_word_list = wordlist[::-1]\n",
    "    return ' '.join(reverse_word_list)"
   ]
  },
  {
   "cell_type": "code",
   "execution_count": 48,
   "id": "077e1183",
   "metadata": {},
   "outputs": [
    {
     "data": {
      "text/plain": [
       "'home am I'"
      ]
     },
     "execution_count": 48,
     "metadata": {},
     "output_type": "execute_result"
    }
   ],
   "source": [
    "master_yoda('I am home')"
   ]
  },
  {
   "cell_type": "code",
   "execution_count": 70,
   "id": "9a29bc15",
   "metadata": {},
   "outputs": [
    {
     "data": {
      "text/plain": [
       "'ready are We'"
      ]
     },
     "execution_count": 70,
     "metadata": {},
     "output_type": "execute_result"
    }
   ],
   "source": [
    "master_yoda('We are ready')"
   ]
  },
  {
   "cell_type": "code",
   "execution_count": 49,
   "id": "4c5c57ae",
   "metadata": {},
   "outputs": [],
   "source": [
    "def almost_there(num):\n",
    "    if 1 <= abs(90 - num) and abs(110-num) <=10:\n",
    "        return True\n",
    "    elif 1 <= abs(190 - num) and abs(210-num) <=10:\n",
    "        return True\n",
    "    else:\n",
    "        return False"
   ]
  },
  {
   "cell_type": "code",
   "execution_count": 50,
   "id": "276132e5",
   "metadata": {},
   "outputs": [],
   "source": [
    "# solution method\n",
    "def almost_there(n):\n",
    "    return (abs(100-n)<=10) or (abs(200-n)<=10)"
   ]
  },
  {
   "cell_type": "code",
   "execution_count": 51,
   "id": "ec50e58d",
   "metadata": {},
   "outputs": [
    {
     "data": {
      "text/plain": [
       "True"
      ]
     },
     "execution_count": 51,
     "metadata": {},
     "output_type": "execute_result"
    }
   ],
   "source": [
    "almost_there(104)"
   ]
  },
  {
   "cell_type": "code",
   "execution_count": 87,
   "id": "6e77902a",
   "metadata": {},
   "outputs": [
    {
     "data": {
      "text/plain": [
       "True"
      ]
     },
     "execution_count": 87,
     "metadata": {},
     "output_type": "execute_result"
    }
   ],
   "source": [
    "almost_there(210)"
   ]
  },
  {
   "cell_type": "code",
   "execution_count": 81,
   "id": "fbb2b6d7",
   "metadata": {},
   "outputs": [
    {
     "data": {
      "text/plain": [
       "True"
      ]
     },
     "execution_count": 81,
     "metadata": {},
     "output_type": "execute_result"
    }
   ],
   "source": [
    "almost_there(209)"
   ]
  },
  {
   "cell_type": "markdown",
   "id": "64db8d65",
   "metadata": {},
   "source": [
    "## Level 2 Problems"
   ]
  },
  {
   "cell_type": "code",
   "execution_count": 108,
   "id": "d1cad109",
   "metadata": {},
   "outputs": [
    {
     "data": {
      "text/plain": [
       "True"
      ]
     },
     "execution_count": 108,
     "metadata": {},
     "output_type": "execute_result"
    }
   ],
   "source": [
    "has_33([1, 3, 3])"
   ]
  },
  {
   "cell_type": "code",
   "execution_count": 109,
   "id": "4a26ca11",
   "metadata": {
    "scrolled": false
   },
   "outputs": [
    {
     "data": {
      "text/plain": [
       "False"
      ]
     },
     "execution_count": 109,
     "metadata": {},
     "output_type": "execute_result"
    }
   ],
   "source": [
    "has_33([1, 3, 1, 3])"
   ]
  },
  {
   "cell_type": "code",
   "execution_count": 55,
   "id": "ac35b4c2",
   "metadata": {},
   "outputs": [
    {
     "data": {
      "text/plain": [
       "True"
      ]
     },
     "execution_count": 55,
     "metadata": {},
     "output_type": "execute_result"
    }
   ],
   "source": [
    "has_33([3, 1, 3,3])"
   ]
  },
  {
   "cell_type": "code",
   "execution_count": 52,
   "id": "1bb238fa",
   "metadata": {},
   "outputs": [],
   "source": [
    "def has_33(nums):\n",
    "    x1 = False\n",
    "    for i in nums:\n",
    "        if i == 3 and x1 == True:\n",
    "            return True\n",
    "        elif i != 3 and x1 == False:\n",
    "            x1 = False\n",
    "        elif i!=3 and x1 == True:\n",
    "            x1 = False\n",
    "        elif i == 3: \n",
    "            x1 = True\n",
    "    return False"
   ]
  },
  {
   "cell_type": "code",
   "execution_count": 54,
   "id": "ba3e6fcc",
   "metadata": {},
   "outputs": [],
   "source": [
    "# solution method\n",
    "def has_33(nums):\n",
    "    for i in range(0,len(nums)-1): # len(nums) = 3 -1 = 2  \n",
    "        if nums[i:i+2] == [3,3]:\n",
    "            return True\n",
    "    return False"
   ]
  },
  {
   "cell_type": "code",
   "execution_count": 57,
   "id": "4ee9d5a1",
   "metadata": {},
   "outputs": [],
   "source": [
    "def paper_doll(text):\n",
    "    textlist = list(text)\n",
    "    newlist = []\n",
    "    for ltt in textlist:\n",
    "        newlist.append(ltt*3)\n",
    "    return ''.join(newlist)\n",
    "    "
   ]
  },
  {
   "cell_type": "code",
   "execution_count": 59,
   "id": "1d32d8f6",
   "metadata": {},
   "outputs": [],
   "source": [
    "# solution method\n",
    "def paper_doll(text): # did not break down into a list. Simply it use for to replace the charactors.\n",
    "    result = ''\n",
    "    for char in text:\n",
    "        result += char*3\n",
    "    return result"
   ]
  },
  {
   "cell_type": "code",
   "execution_count": 3,
   "id": "67abca47",
   "metadata": {},
   "outputs": [
    {
     "data": {
      "text/plain": [
       "'HHHeeellllllooo'"
      ]
     },
     "execution_count": 3,
     "metadata": {},
     "output_type": "execute_result"
    }
   ],
   "source": [
    "paper_doll('Hello')"
   ]
  },
  {
   "cell_type": "code",
   "execution_count": 4,
   "id": "0ffbfd3b",
   "metadata": {},
   "outputs": [
    {
     "data": {
      "text/plain": [
       "'MMMiiissssssiiissssssiiippppppiii'"
      ]
     },
     "execution_count": 4,
     "metadata": {},
     "output_type": "execute_result"
    }
   ],
   "source": [
    "paper_doll('Mississippi')"
   ]
  },
  {
   "cell_type": "code",
   "execution_count": 62,
   "id": "5ab4ed27",
   "metadata": {},
   "outputs": [],
   "source": [
    "def blackjack(*cards):\n",
    "    tosum = sum(cards)\n",
    "    if tosum > 21 and 11 in cards:\n",
    "        tosum = tosum -10\n",
    "    elif tosum > 21:\n",
    "        tosum = 'BUST'\n",
    "        \n",
    "    return tosum"
   ]
  },
  {
   "cell_type": "code",
   "execution_count": null,
   "id": "8e7a4b56",
   "metadata": {},
   "outputs": [],
   "source": [
    "#solution method\n",
    "def blackjack(a,b,c):\n",
    "    if sum([a,b,c])<= 21:\n",
    "        return sum([a,b,c])\n",
    "    elif 11 in [a,b,c] and sum([a,b,c])-10 <=21:\n",
    "        return sum ([a,b,c]) -10\n",
    "    else:\n",
    "        return 'BUST'"
   ]
  },
  {
   "cell_type": "code",
   "execution_count": 61,
   "id": "4db48f07",
   "metadata": {},
   "outputs": [
    {
     "data": {
      "text/plain": [
       "18"
      ]
     },
     "execution_count": 61,
     "metadata": {},
     "output_type": "execute_result"
    }
   ],
   "source": [
    "blackjack(5,6,7)"
   ]
  },
  {
   "cell_type": "code",
   "execution_count": 9,
   "id": "a9ad2188",
   "metadata": {},
   "outputs": [
    {
     "data": {
      "text/plain": [
       "'BUST'"
      ]
     },
     "execution_count": 9,
     "metadata": {},
     "output_type": "execute_result"
    }
   ],
   "source": [
    "blackjack(9,9,9)"
   ]
  },
  {
   "cell_type": "code",
   "execution_count": 10,
   "id": "b8376e54",
   "metadata": {},
   "outputs": [
    {
     "data": {
      "text/plain": [
       "19"
      ]
     },
     "execution_count": 10,
     "metadata": {},
     "output_type": "execute_result"
    }
   ],
   "source": [
    "blackjack(9,9,11)"
   ]
  },
  {
   "cell_type": "code",
   "execution_count": 65,
   "id": "208e16b3",
   "metadata": {},
   "outputs": [],
   "source": [
    "def summer_69(*arr):\n",
    "    check = False\n",
    "    tosum = 0\n",
    "    for num in arr[0]:\n",
    "        if num == 6 and check == False:\n",
    "            check = True\n",
    "        elif num == 9 and check == True:\n",
    "            check = False\n",
    "        elif check == False:\n",
    "            tosum += num\n",
    "    return tosum"
   ]
  },
  {
   "cell_type": "code",
   "execution_count": 67,
   "id": "a2af9430",
   "metadata": {},
   "outputs": [],
   "source": [
    "# solution method\n",
    "def summer_69(arr):\n",
    "    total = 0\n",
    "    add = True\n",
    "    for num in arr:\n",
    "        while add:\n",
    "            if num != 6:\n",
    "                total += num\n",
    "                break\n",
    "            else:\n",
    "                add = False\n",
    "        while not add:\n",
    "            if num != 9:\n",
    "                break\n",
    "            else:\n",
    "                add = True\n",
    "                break\n",
    "    return total"
   ]
  },
  {
   "cell_type": "code",
   "execution_count": 14,
   "id": "97a1d450",
   "metadata": {
    "scrolled": true
   },
   "outputs": [
    {
     "data": {
      "text/plain": [
       "9"
      ]
     },
     "execution_count": 14,
     "metadata": {},
     "output_type": "execute_result"
    }
   ],
   "source": [
    "summer_69([1, 3, 5])"
   ]
  },
  {
   "cell_type": "code",
   "execution_count": 17,
   "id": "b5270e5e",
   "metadata": {
    "scrolled": true
   },
   "outputs": [
    {
     "data": {
      "text/plain": [
       "26"
      ]
     },
     "execution_count": 17,
     "metadata": {},
     "output_type": "execute_result"
    }
   ],
   "source": [
    "summer_69([4, 5, 6, 7, 9, 8, 9])"
   ]
  },
  {
   "cell_type": "code",
   "execution_count": 16,
   "id": "38509fd6",
   "metadata": {},
   "outputs": [
    {
     "data": {
      "text/plain": [
       "14"
      ]
     },
     "execution_count": 16,
     "metadata": {},
     "output_type": "execute_result"
    }
   ],
   "source": [
    "summer_69([2, 1, 6, 9, 11])"
   ]
  },
  {
   "cell_type": "markdown",
   "id": "14622f9e",
   "metadata": {},
   "source": [
    "## Challenging Problems"
   ]
  },
  {
   "cell_type": "code",
   "execution_count": 68,
   "id": "0b96ed02",
   "metadata": {},
   "outputs": [],
   "source": [
    "def spy_game(nums):\n",
    "    count = 0\n",
    "    for num in nums:\n",
    "        if num == 0:\n",
    "            count += 1\n",
    "        elif num ==7 and count >= 2:\n",
    "            out = True\n",
    "            break\n",
    "        else:\n",
    "            out = False\n",
    "    return out"
   ]
  },
  {
   "cell_type": "code",
   "execution_count": 69,
   "id": "fcd30db0",
   "metadata": {},
   "outputs": [],
   "source": [
    "def spy_game(nums):\n",
    "    code = [0,0,7,'x']\n",
    "    for num in nums:\n",
    "        code.pop(0)\n",
    "    return len(code)==1"
   ]
  },
  {
   "cell_type": "code",
   "execution_count": 26,
   "id": "f08718dd",
   "metadata": {},
   "outputs": [
    {
     "data": {
      "text/plain": [
       "True"
      ]
     },
     "execution_count": 26,
     "metadata": {},
     "output_type": "execute_result"
    }
   ],
   "source": [
    "spy_game([1,2,4,0,0,7,5])"
   ]
  },
  {
   "cell_type": "code",
   "execution_count": 27,
   "id": "a151d801",
   "metadata": {},
   "outputs": [
    {
     "data": {
      "text/plain": [
       "True"
      ]
     },
     "execution_count": 27,
     "metadata": {},
     "output_type": "execute_result"
    }
   ],
   "source": [
    "spy_game([1,0,2,4,0,5,7])"
   ]
  },
  {
   "cell_type": "code",
   "execution_count": 28,
   "id": "e22aa4fd",
   "metadata": {},
   "outputs": [
    {
     "data": {
      "text/plain": [
       "False"
      ]
     },
     "execution_count": 28,
     "metadata": {},
     "output_type": "execute_result"
    }
   ],
   "source": [
    "spy_game([1,7,2,0,4,5,0])"
   ]
  },
  {
   "cell_type": "code",
   "execution_count": 29,
   "id": "3a653b6b",
   "metadata": {},
   "outputs": [
    {
     "data": {
      "text/plain": [
       "True"
      ]
     },
     "execution_count": 29,
     "metadata": {},
     "output_type": "execute_result"
    }
   ],
   "source": [
    "spy_game([0,0,0,0,4,7,0])"
   ]
  },
  {
   "cell_type": "code",
   "execution_count": 70,
   "id": "cdebc330",
   "metadata": {},
   "outputs": [],
   "source": [
    "def count_primes(num):\n",
    "    count = 0\n",
    "    for i in range(2, num):\n",
    "        if i == 2 or i ==3 or i==5 or i==7:\n",
    "            count += 1\n",
    "        elif i%2 != 0 and i%3 !=0 and i%5 !=0 and i%7!=0: #apply Truthy and Falsy \n",
    "            count += 1\n",
    "    return count"
   ]
  },
  {
   "cell_type": "code",
   "execution_count": 72,
   "id": "76935374",
   "metadata": {},
   "outputs": [],
   "source": [
    "def count_primes(num):\n",
    "    if num < 2:\n",
    "        return 0\n",
    "    primes = [2]\n",
    "    x = 3\n",
    "    \n",
    "    while x <=num:\n",
    "        for y in range(3,x,2):\n",
    "            if x%y == 0:\n",
    "                x +=2\n",
    "                break\n",
    "        else:\n",
    "            primes.append(x) \n",
    "            x+=2\n",
    "    print(primes)\n",
    "    return len(primes)"
   ]
  },
  {
   "cell_type": "code",
   "execution_count": 34,
   "id": "fcc82f82",
   "metadata": {},
   "outputs": [
    {
     "data": {
      "text/plain": [
       "231"
      ]
     },
     "execution_count": 34,
     "metadata": {},
     "output_type": "execute_result"
    }
   ],
   "source": [
    "count_primes(1000)"
   ]
  },
  {
   "cell_type": "markdown",
   "id": "ffc0dbc9",
   "metadata": {},
   "source": [
    "## I did not solve"
   ]
  },
  {
   "cell_type": "markdown",
   "id": "5074106c",
   "metadata": {},
   "source": [
    "PRINT BIG: Write a function that takes in a single letter, and returns a 5x5 representation of that letter"
   ]
  }
 ],
 "metadata": {
  "kernelspec": {
   "display_name": "Python 3 (ipykernel)",
   "language": "python",
   "name": "python3"
  },
  "language_info": {
   "codemirror_mode": {
    "name": "ipython",
    "version": 3
   },
   "file_extension": ".py",
   "mimetype": "text/x-python",
   "name": "python",
   "nbconvert_exporter": "python",
   "pygments_lexer": "ipython3",
   "version": "3.10.5"
  }
 },
 "nbformat": 4,
 "nbformat_minor": 5
}
