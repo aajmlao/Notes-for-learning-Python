{
 "cells": [
  {
   "cell_type": "markdown",
   "id": "3783bf57",
   "metadata": {},
   "source": [
    "## Object Oriented Programming Challenge"
   ]
  },
  {
   "cell_type": "code",
   "execution_count": 12,
   "id": "f688dd4e",
   "metadata": {},
   "outputs": [],
   "source": [
    "class Account():\n",
    "    \"\"\"Account displace and operate balance.\"\"\"\n",
    "    \n",
    "    def __init__(self,owner,balance):\n",
    "        self.owner = owner\n",
    "        self.balance = balance\n",
    "        print(f'Account owner: {owner}')\n",
    "        print(f'Account balance: ${balance}')\n",
    "        \n",
    "    def deposit(self,amount):\n",
    "        \n",
    "        self.balance = self.balance + amount\n",
    "        print('Deposit accepted')\n",
    "        print(f'Your New Balance is ${self.balance}')\n",
    "        return self.balance\n",
    "    \n",
    "    def withdraw(self,amount):\n",
    "        if amount > self.balance:\n",
    "            print('Your Balance is Less than Your withdraw')\n",
    "        else:\n",
    "            self.balance = self.balance - amount\n",
    "            print('Withdraw accepted')\n",
    "            print(f'Your have ${self.balance} left')\n",
    "        \n",
    "        return self.balance"
   ]
  },
  {
   "cell_type": "code",
   "execution_count": 13,
   "id": "96ea89bf",
   "metadata": {},
   "outputs": [
    {
     "name": "stdout",
     "output_type": "stream",
     "text": [
      "Account owner: Jose\n",
      "Account balance: $100\n"
     ]
    }
   ],
   "source": [
    "acct1 = Account('Jose',100)"
   ]
  },
  {
   "cell_type": "code",
   "execution_count": 5,
   "id": "6de4e9c2",
   "metadata": {},
   "outputs": [
    {
     "data": {
      "text/plain": [
       "'Jose'"
      ]
     },
     "execution_count": 5,
     "metadata": {},
     "output_type": "execute_result"
    }
   ],
   "source": [
    "acct1.owner"
   ]
  },
  {
   "cell_type": "code",
   "execution_count": 6,
   "id": "9b958505",
   "metadata": {},
   "outputs": [
    {
     "data": {
      "text/plain": [
       "100"
      ]
     },
     "execution_count": 6,
     "metadata": {},
     "output_type": "execute_result"
    }
   ],
   "source": [
    "acct1.balance"
   ]
  },
  {
   "cell_type": "code",
   "execution_count": 7,
   "id": "5c2aab65",
   "metadata": {},
   "outputs": [
    {
     "name": "stdout",
     "output_type": "stream",
     "text": [
      "Deposit accepted\n",
      "Your New Balance is 150\n"
     ]
    },
    {
     "data": {
      "text/plain": [
       "150"
      ]
     },
     "execution_count": 7,
     "metadata": {},
     "output_type": "execute_result"
    }
   ],
   "source": [
    "acct1.deposit(50)"
   ]
  },
  {
   "cell_type": "code",
   "execution_count": 14,
   "id": "b143a745",
   "metadata": {},
   "outputs": [
    {
     "name": "stdout",
     "output_type": "stream",
     "text": [
      "Withdraw accepted\n",
      "Your have 25 left\n"
     ]
    },
    {
     "data": {
      "text/plain": [
       "25"
      ]
     },
     "execution_count": 14,
     "metadata": {},
     "output_type": "execute_result"
    }
   ],
   "source": [
    "acct1.withdraw(75)"
   ]
  },
  {
   "cell_type": "code",
   "execution_count": null,
   "id": "6e549395",
   "metadata": {},
   "outputs": [],
   "source": []
  }
 ],
 "metadata": {
  "kernelspec": {
   "display_name": "Python 3 (ipykernel)",
   "language": "python",
   "name": "python3"
  },
  "language_info": {
   "codemirror_mode": {
    "name": "ipython",
    "version": 3
   },
   "file_extension": ".py",
   "mimetype": "text/x-python",
   "name": "python",
   "nbconvert_exporter": "python",
   "pygments_lexer": "ipython3",
   "version": "3.10.5"
  }
 },
 "nbformat": 4,
 "nbformat_minor": 5
}
