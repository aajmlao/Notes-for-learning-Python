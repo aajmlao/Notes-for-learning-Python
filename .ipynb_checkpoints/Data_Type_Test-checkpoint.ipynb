{
 "cells": [
  {
   "cell_type": "markdown",
   "id": "3a629de9",
   "metadata": {},
   "source": [
    "Question from: \n",
    "https://github.com/aajmlao/Complete-Python-3-Bootcamp/blob/master/00-Python%20Object%20and%20Data%20Structure%20Basics/09-Objects%20and%20Data%20Structures%20Assessment%20Test.ipynb\n",
    "\n",
    "1. Numbers: integret and float are numbers. Integrets are real number with no dot while floats are real number with dot.\n",
    "2. string: string are letters, numbers, and simple. \n",
    "3. Lists: lists contains different type of datatype. lists are not fixed. data can be insert or remove. []\n",
    "4. Tuples: Tuples are a fixed list.()\n",
    "5. Dictionaries: key-value pairs are dictionary. {}"
   ]
  },
  {
   "cell_type": "markdown",
   "id": "67e21e1a",
   "metadata": {},
   "source": [
    "# Numbers:"
   ]
  },
  {
   "cell_type": "code",
   "execution_count": 1,
   "id": "619046c6",
   "metadata": {},
   "outputs": [
    {
     "data": {
      "text/plain": [
       "100.25"
      ]
     },
     "execution_count": 1,
     "metadata": {},
     "output_type": "execute_result"
    }
   ],
   "source": [
    "(4*(5+5**3)-119)/4"
   ]
  },
  {
   "cell_type": "markdown",
   "id": "1dd27434",
   "metadata": {},
   "source": [
    "# "
   ]
  },
  {
   "cell_type": "code",
   "execution_count": null,
   "id": "0fd541bb",
   "metadata": {},
   "outputs": [],
   "source": []
  }
 ],
 "metadata": {
  "kernelspec": {
   "display_name": "Python 3 (ipykernel)",
   "language": "python",
   "name": "python3"
  },
  "language_info": {
   "codemirror_mode": {
    "name": "ipython",
    "version": 3
   },
   "file_extension": ".py",
   "mimetype": "text/x-python",
   "name": "python",
   "nbconvert_exporter": "python",
   "pygments_lexer": "ipython3",
   "version": "3.10.5"
  }
 },
 "nbformat": 4,
 "nbformat_minor": 5
}
