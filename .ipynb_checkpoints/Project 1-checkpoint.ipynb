{
 "cells": [
  {
   "cell_type": "markdown",
   "id": "98dc5f79",
   "metadata": {},
   "source": [
    "# Tic Tac Toe Game"
   ]
  },
  {
   "cell_type": "code",
   "execution_count": 1,
   "id": "5631eea8",
   "metadata": {},
   "outputs": [],
   "source": [
    "def basic_info():\n",
    "    print(\"Welcome to Tic Tac Toe Board Game.\")\n",
    "    choice = \"Wrong\"\n",
    "    choice1 = 'Wrong'\n",
    "    while choice != 'Y':\n",
    "        user1 = input(\"Please Your Name as User 1: \")\n",
    "        choice = input(f\"Your Name is {user1}, Correct? Y or N: \")\n",
    "    while choice1 != 'Y':\n",
    "        user2 = input(\"Please Your Name as User 2: \")\n",
    "        choice1 = input(f\"Your Name is {user1}, Correct? Y or N: \")\n",
    "    return [user1,user2]"
   ]
  },
  {
   "cell_type": "code",
   "execution_count": 13,
   "id": "d9186525",
   "metadata": {},
   "outputs": [],
   "source": [
    "def board_pattern():\n",
    "    board_1 = [\" \",'|',\" \",'|',\" \"]\n",
    "    board_2 = [\"-\",\"|\",\"-\",\"|\",\"-\"]\n",
    "    board_3 = [\" \",'|',\" \",'|',\" \"]\n",
    "    board_4 = [\"-\",\"|\",\"-\",\"|\",\"-\"]\n",
    "    board_5 = [\" \",'|',\" \",'|',\" \"]\n",
    "    return [board_1, board_2]"
   ]
  },
  {
   "cell_type": "code",
   "execution_count": 14,
   "id": "bf989956",
   "metadata": {},
   "outputs": [
    {
     "name": "stdout",
     "output_type": "stream",
     "text": [
      " | | \n",
      "-|-|-\n"
     ]
    }
   ],
   "source": [
    "board_1, board_2 = board_pattern()\n",
    "print(\"\".join(board_1))\n",
    "print(\"\".join(board_2))"
   ]
  },
  {
   "cell_type": "code",
   "execution_count": null,
   "id": "40319ed1",
   "metadata": {},
   "outputs": [],
   "source": []
  }
 ],
 "metadata": {
  "kernelspec": {
   "display_name": "Python 3 (ipykernel)",
   "language": "python",
   "name": "python3"
  },
  "language_info": {
   "codemirror_mode": {
    "name": "ipython",
    "version": 3
   },
   "file_extension": ".py",
   "mimetype": "text/x-python",
   "name": "python",
   "nbconvert_exporter": "python",
   "pygments_lexer": "ipython3",
   "version": "3.10.5"
  }
 },
 "nbformat": 4,
 "nbformat_minor": 5
}
