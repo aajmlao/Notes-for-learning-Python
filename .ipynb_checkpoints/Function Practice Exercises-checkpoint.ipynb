{
 "cells": [
  {
   "cell_type": "markdown",
   "id": "eb4216ca",
   "metadata": {},
   "source": [
    "Practice Source: https://github.com/aajmlao/Complete-Python-3-Bootcamp/blob/master/03-Methods%20and%20Functions/03-Function%20Practice%20Exercises.ipynb"
   ]
  },
  {
   "cell_type": "code",
   "execution_count": 2,
   "id": "162e012d",
   "metadata": {},
   "outputs": [],
   "source": [
    "def lesser_of_two_evens(num1,num2):\n",
    "    if num1%2 == 0 and num2%2 == 0: \n",
    "        if num1 > num2:\n",
    "            return num2\n",
    "        else:\n",
    "            return num1\n",
    "    else:\n",
    "        if num1 > num2:\n",
    "            return num1\n",
    "        else: \n",
    "            return num2"
   ]
  },
  {
   "cell_type": "code",
   "execution_count": 4,
   "id": "7e020878",
   "metadata": {},
   "outputs": [
    {
     "data": {
      "text/plain": [
       "4"
      ]
     },
     "execution_count": 4,
     "metadata": {},
     "output_type": "execute_result"
    }
   ],
   "source": [
    "lesser_of_two_evens(5,4)"
   ]
  },
  {
   "cell_type": "code",
   "execution_count": null,
   "id": "eaa5a4fe",
   "metadata": {},
   "outputs": [],
   "source": []
  }
 ],
 "metadata": {
  "kernelspec": {
   "display_name": "Python 3 (ipykernel)",
   "language": "python",
   "name": "python3"
  },
  "language_info": {
   "codemirror_mode": {
    "name": "ipython",
    "version": 3
   },
   "file_extension": ".py",
   "mimetype": "text/x-python",
   "name": "python",
   "nbconvert_exporter": "python",
   "pygments_lexer": "ipython3",
   "version": "3.10.5"
  }
 },
 "nbformat": 4,
 "nbformat_minor": 5
}
