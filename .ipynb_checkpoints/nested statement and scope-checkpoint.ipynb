{
 "cells": [
  {
   "cell_type": "code",
   "execution_count": 1,
   "id": "9b2d7b54",
   "metadata": {},
   "outputs": [],
   "source": [
    "x = 25\n",
    "def printer():\n",
    "    x = 50\n",
    "    return x"
   ]
  },
  {
   "cell_type": "markdown",
   "id": "51f3ecf3",
   "metadata": {},
   "source": [
    "LEGB Rule:\n",
    "\n",
    "L: Local — Names assigned in any way within a function (def or lambda), and not declared global in that function.\n",
    "\n",
    "E: Enclosing function locals — Names in the local scope of any and all enclosing functions (def or lambda), from inner to outer.\n",
    "\n",
    "G: Global (module) — Names assigned at the top-level of a module file, or declared global in a def within the file.\n",
    "\n",
    "B: Built-in (Python) — Names preassigned in the built-in names module : open, range, SyntaxError,..."
   ]
  },
  {
   "cell_type": "code",
   "execution_count": 4,
   "id": "41529eae",
   "metadata": {},
   "outputs": [
    {
     "name": "stdout",
     "output_type": "stream",
     "text": [
      "Hello I am a local\n"
     ]
    }
   ],
   "source": [
    "#Global\n",
    "name = 'This is a global string'\n",
    "\n",
    "def greet():\n",
    "    # Enclosing\n",
    "    name = 'Sam'\n",
    "    \n",
    "    def hello():\n",
    "        #Local\n",
    "        name = 'I am a local'\n",
    "        print('Hello '+name)\n",
    "    \n",
    "    hello()\n",
    "greet()"
   ]
  },
  {
   "cell_type": "code",
   "execution_count": 5,
   "id": "1c6600fd",
   "metadata": {},
   "outputs": [],
   "source": [
    "# global keyword would affect the local"
   ]
  },
  {
   "cell_type": "markdown",
   "id": "88e22a97",
   "metadata": {},
   "source": [
    "# Functions and Methods Homework"
   ]
  },
  {
   "cell_type": "code",
   "execution_count": 12,
   "id": "ab56c5b2",
   "metadata": {},
   "outputs": [],
   "source": [
    "import math\n",
    "def vol(rad):\n",
    "    return (4/3)*math.pi*rad**3"
   ]
  },
  {
   "cell_type": "code",
   "execution_count": 13,
   "id": "1602bea1",
   "metadata": {},
   "outputs": [
    {
     "data": {
      "text/plain": [
       "33.510321638291124"
      ]
     },
     "execution_count": 13,
     "metadata": {},
     "output_type": "execute_result"
    }
   ],
   "source": [
    "vol(2)"
   ]
  },
  {
   "cell_type": "code",
   "execution_count": 14,
   "id": "adc01439",
   "metadata": {},
   "outputs": [],
   "source": [
    "def ran_check(num,low,high):\n",
    "    if num > low and num < high:\n",
    "        print(f'{num} is in the range between {low} and {high}')\n",
    "    else:\n",
    "        print('It is wrong input.')"
   ]
  },
  {
   "cell_type": "code",
   "execution_count": 15,
   "id": "8f2890f9",
   "metadata": {},
   "outputs": [
    {
     "name": "stdout",
     "output_type": "stream",
     "text": [
      "5 is in the range between 2 and 6\n"
     ]
    }
   ],
   "source": [
    "ran_check(5,2,6)"
   ]
  },
  {
   "cell_type": "code",
   "execution_count": 18,
   "id": "fcc2cd77",
   "metadata": {},
   "outputs": [],
   "source": [
    "def up_low(s):\n",
    "    string = s.replace(' ','')\n",
    "    up = 0\n",
    "    low = 0\n",
    "    for i in string:\n",
    "        if i.isupper():\n",
    "           up += 1\n",
    "        elif i.islower():\n",
    "            low += 1\n",
    "    print(s)\n",
    "    print(up)\n",
    "    print(low)"
   ]
  },
  {
   "cell_type": "code",
   "execution_count": 19,
   "id": "f41669e9",
   "metadata": {},
   "outputs": [
    {
     "name": "stdout",
     "output_type": "stream",
     "text": [
      "Hello Mr. Rogers, how are you this fine Tuesday?\n",
      "4\n",
      "33\n"
     ]
    }
   ],
   "source": [
    "up_low('Hello Mr. Rogers, how are you this fine Tuesday?')"
   ]
  },
  {
   "cell_type": "code",
   "execution_count": 20,
   "id": "52b6d124",
   "metadata": {},
   "outputs": [],
   "source": [
    "def unique_list(lst):\n",
    "    return set(lst)"
   ]
  },
  {
   "cell_type": "code",
   "execution_count": 21,
   "id": "72444365",
   "metadata": {},
   "outputs": [
    {
     "data": {
      "text/plain": [
       "{1, 2, 3, 4, 5}"
      ]
     },
     "execution_count": 21,
     "metadata": {},
     "output_type": "execute_result"
    }
   ],
   "source": [
    "unique_list([1,1,1,1,2,2,3,3,3,3,4,5])"
   ]
  },
  {
   "cell_type": "code",
   "execution_count": 33,
   "id": "b754e1ac",
   "metadata": {},
   "outputs": [],
   "source": [
    "def multiply(*args):\n",
    "    i = 1\n",
    "    for x in args[0]:\n",
    "        i *= x\n",
    "    return i "
   ]
  },
  {
   "cell_type": "code",
   "execution_count": 34,
   "id": "a5b89bdf",
   "metadata": {},
   "outputs": [
    {
     "data": {
      "text/plain": [
       "-24"
      ]
     },
     "execution_count": 34,
     "metadata": {},
     "output_type": "execute_result"
    }
   ],
   "source": [
    "multiply([1,2,3,-4])"
   ]
  },
  {
   "cell_type": "code",
   "execution_count": 59,
   "id": "7e69d93b",
   "metadata": {},
   "outputs": [],
   "source": [
    "def palindrome(s):\n",
    "    s = list(s)\n",
    "    for i in range(int(len(s)/2)):\n",
    "        if s[i] == s.pop():\n",
    "            out = True\n",
    "        else:\n",
    "            out = False\n",
    "    return out"
   ]
  },
  {
   "cell_type": "code",
   "execution_count": 60,
   "id": "2842ea21",
   "metadata": {},
   "outputs": [],
   "source": [
    "# solution method\n",
    "def palidrome(s):\n",
    "    s = s.replace(' ','')\n",
    "    return s == s[::-1]"
   ]
  },
  {
   "cell_type": "code",
   "execution_count": 62,
   "id": "e2455b5e",
   "metadata": {},
   "outputs": [
    {
     "data": {
      "text/plain": [
       "True"
      ]
     },
     "execution_count": 62,
     "metadata": {},
     "output_type": "execute_result"
    }
   ],
   "source": [
    "palindrome('racecar')"
   ]
  },
  {
   "cell_type": "code",
   "execution_count": 63,
   "id": "ceb2a368",
   "metadata": {},
   "outputs": [],
   "source": [
    "import string\n",
    "\n",
    "def ispangram(str1, alphabet=string.ascii_lowercase):\n",
    "    str1 = str1.replace(' ','')\n",
    "    ilist = list(str1)\n",
    "    for i in ilist:\n",
    "        if i.lower() in alphabet:\n",
    "            out = True\n",
    "        else:\n",
    "            return False\n",
    "    return out"
   ]
  },
  {
   "cell_type": "code",
   "execution_count": 68,
   "id": "85a1d918",
   "metadata": {},
   "outputs": [],
   "source": [
    "# solution method\n",
    "import string\n",
    "\n",
    "def ispangram(str1, alphabet=string.ascii_lowercase):\n",
    "    str1 = str1.replace(' ','').lower()\n",
    "    return set(str1) == set(alphabet)"
   ]
  },
  {
   "cell_type": "code",
   "execution_count": 69,
   "id": "a62f48bb",
   "metadata": {},
   "outputs": [
    {
     "data": {
      "text/plain": [
       "True"
      ]
     },
     "execution_count": 69,
     "metadata": {},
     "output_type": "execute_result"
    }
   ],
   "source": [
    "ispangram(\"The quick brown fox jumps over the lazy dog\")"
   ]
  },
  {
   "cell_type": "code",
   "execution_count": null,
   "id": "1f95dad8",
   "metadata": {},
   "outputs": [],
   "source": []
  }
 ],
 "metadata": {
  "kernelspec": {
   "display_name": "Python 3 (ipykernel)",
   "language": "python",
   "name": "python3"
  },
  "language_info": {
   "codemirror_mode": {
    "name": "ipython",
    "version": 3
   },
   "file_extension": ".py",
   "mimetype": "text/x-python",
   "name": "python",
   "nbconvert_exporter": "python",
   "pygments_lexer": "ipython3",
   "version": "3.10.5"
  }
 },
 "nbformat": 4,
 "nbformat_minor": 5
}
